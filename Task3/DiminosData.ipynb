{
 "cells": [
  {
   "cell_type": "code",
   "execution_count": 97,
   "id": "c8de2c59",
   "metadata": {},
   "outputs": [],
   "source": [
    "import pandas as pd\n",
    "import seaborn as sns\n",
    "import matplotlib.pyplot as plt"
   ]
  },
  {
   "cell_type": "markdown",
   "id": "1645c914",
   "metadata": {},
   "source": [
    "### Data Collection"
   ]
  },
  {
   "cell_type": "code",
   "execution_count": 2,
   "id": "32654b91",
   "metadata": {},
   "outputs": [],
   "source": [
    "deliveries = pd.read_csv(r\"C:\\Users\\Nithya\\Downloads\\diminos_data_v2\\diminos_data_v2\\deliveries.csv\")"
   ]
  },
  {
   "cell_type": "code",
   "execution_count": 3,
   "id": "3cc27c4e",
   "metadata": {},
   "outputs": [],
   "source": [
    "order_items = pd.read_csv(r\"C:\\Users\\Nithya\\Downloads\\diminos_data_v2\\diminos_data_v2\\order_items.csv\")"
   ]
  },
  {
   "cell_type": "code",
   "execution_count": 4,
   "id": "355785b4",
   "metadata": {},
   "outputs": [],
   "source": [
    "orders = pd.read_csv(r\"C:\\Users\\Nithya\\Downloads\\diminos_data_v2\\diminos_data_v2\\orders.csv\")"
   ]
  },
  {
   "cell_type": "code",
   "execution_count": 5,
   "id": "8c549515",
   "metadata": {},
   "outputs": [],
   "source": [
    "products = pd.read_csv(r\"C:\\Users\\Nithya\\Downloads\\diminos_data_v2\\diminos_data_v2\\products.csv\")"
   ]
  },
  {
   "cell_type": "markdown",
   "id": "a9933394",
   "metadata": {},
   "source": [
    "### Data Cleaning"
   ]
  },
  {
   "cell_type": "code",
   "execution_count": 6,
   "id": "b30e239f",
   "metadata": {},
   "outputs": [
    {
     "name": "stdout",
     "output_type": "stream",
     "text": [
      "<class 'pandas.core.frame.DataFrame'>\n",
      "RangeIndex: 1363008 entries, 0 to 1363007\n",
      "Data columns (total 3 columns):\n",
      " #   Column      Non-Null Count    Dtype \n",
      "---  ------      --------------    ----- \n",
      " 0   order_id    1363008 non-null  int64 \n",
      " 1   time_stamp  1363008 non-null  object\n",
      " 2   status      1363008 non-null  object\n",
      "dtypes: int64(1), object(2)\n",
      "memory usage: 31.2+ MB\n"
     ]
    }
   ],
   "source": [
    "deliveries.info()"
   ]
  },
  {
   "cell_type": "code",
   "execution_count": 7,
   "id": "92c2bc38",
   "metadata": {},
   "outputs": [],
   "source": [
    "deliveries[\"time_stamp\"]=deliveries[\"time_stamp\"].astype(\"datetime64\")"
   ]
  },
  {
   "cell_type": "code",
   "execution_count": 8,
   "id": "14e367c4",
   "metadata": {},
   "outputs": [
    {
     "data": {
      "text/plain": [
       "0"
      ]
     },
     "execution_count": 8,
     "metadata": {},
     "output_type": "execute_result"
    }
   ],
   "source": [
    "deliveries.duplicated().sum()"
   ]
  },
  {
   "cell_type": "code",
   "execution_count": 9,
   "id": "c4329ab8",
   "metadata": {},
   "outputs": [
    {
     "name": "stdout",
     "output_type": "stream",
     "text": [
      "<class 'pandas.core.frame.DataFrame'>\n",
      "RangeIndex: 454336 entries, 0 to 454335\n",
      "Data columns (total 2 columns):\n",
      " #   Column         Non-Null Count   Dtype \n",
      "---  ------         --------------   ----- \n",
      " 0   order_id       454336 non-null  int64 \n",
      " 1   items_ordered  454336 non-null  object\n",
      "dtypes: int64(1), object(1)\n",
      "memory usage: 6.9+ MB\n"
     ]
    }
   ],
   "source": [
    "order_items.info()"
   ]
  },
  {
   "cell_type": "code",
   "execution_count": 10,
   "id": "24d75dcc",
   "metadata": {},
   "outputs": [
    {
     "data": {
      "text/plain": [
       "0"
      ]
     },
     "execution_count": 10,
     "metadata": {},
     "output_type": "execute_result"
    }
   ],
   "source": [
    "order_items.duplicated().sum()"
   ]
  },
  {
   "cell_type": "code",
   "execution_count": 11,
   "id": "59374f16",
   "metadata": {},
   "outputs": [],
   "source": [
    "order_items[\"items_ordered\"]=(order_items[\"items_ordered\"].apply(lambda x:x.strip(\"[]\").replace(\"'\", '').split(\",\"))).apply(lambda x:[item.strip() for item in x])"
   ]
  },
  {
   "cell_type": "code",
   "execution_count": 12,
   "id": "c45dacd7",
   "metadata": {},
   "outputs": [
    {
     "name": "stdout",
     "output_type": "stream",
     "text": [
      "<class 'pandas.core.frame.DataFrame'>\n",
      "RangeIndex: 454336 entries, 0 to 454335\n",
      "Data columns (total 2 columns):\n",
      " #   Column           Non-Null Count   Dtype \n",
      "---  ------           --------------   ----- \n",
      " 0   order_id         454336 non-null  int64 \n",
      " 1   order_placed_at  454336 non-null  object\n",
      "dtypes: int64(1), object(1)\n",
      "memory usage: 6.9+ MB\n"
     ]
    }
   ],
   "source": [
    "orders.info()"
   ]
  },
  {
   "cell_type": "code",
   "execution_count": 13,
   "id": "8872f81b",
   "metadata": {},
   "outputs": [],
   "source": [
    "orders[\"order_placed_at\"]=orders[\"order_placed_at\"].astype(\"datetime64\")"
   ]
  },
  {
   "cell_type": "code",
   "execution_count": 14,
   "id": "f95bd658",
   "metadata": {},
   "outputs": [
    {
     "data": {
      "text/plain": [
       "0"
      ]
     },
     "execution_count": 14,
     "metadata": {},
     "output_type": "execute_result"
    }
   ],
   "source": [
    "orders.duplicated().sum()"
   ]
  },
  {
   "cell_type": "code",
   "execution_count": 15,
   "id": "ae49ffcb",
   "metadata": {},
   "outputs": [
    {
     "name": "stdout",
     "output_type": "stream",
     "text": [
      "<class 'pandas.core.frame.DataFrame'>\n",
      "RangeIndex: 37 entries, 0 to 36\n",
      "Data columns (total 5 columns):\n",
      " #   Column    Non-Null Count  Dtype \n",
      "---  ------    --------------  ----- \n",
      " 0   item_id   37 non-null     object\n",
      " 1   category  37 non-null     object\n",
      " 2   Item      37 non-null     object\n",
      " 3   Size      37 non-null     object\n",
      " 4   Price     37 non-null     int64 \n",
      "dtypes: int64(1), object(4)\n",
      "memory usage: 1.6+ KB\n"
     ]
    }
   ],
   "source": [
    "products.info()"
   ]
  },
  {
   "cell_type": "code",
   "execution_count": 16,
   "id": "de1961a5",
   "metadata": {},
   "outputs": [
    {
     "data": {
      "text/plain": [
       "0"
      ]
     },
     "execution_count": 16,
     "metadata": {},
     "output_type": "execute_result"
    }
   ],
   "source": [
    "products.duplicated().sum()"
   ]
  },
  {
   "cell_type": "markdown",
   "id": "3a265c01",
   "metadata": {},
   "source": [
    "### Merging the dataframes"
   ]
  },
  {
   "cell_type": "code",
   "execution_count": 17,
   "id": "66552b85",
   "metadata": {},
   "outputs": [],
   "source": [
    "df=deliveries.loc[deliveries[\"status\"]==\"Pending\",[\"order_id\",\"time_stamp\"]].reset_index(drop=True).copy()"
   ]
  },
  {
   "cell_type": "code",
   "execution_count": 18,
   "id": "5e9b64f3",
   "metadata": {},
   "outputs": [],
   "source": [
    "df[\"end_time\"] = deliveries.loc[deliveries[\"status\"]==\"Delivered\",[\"time_stamp\"]].reset_index(drop=True)"
   ]
  },
  {
   "cell_type": "code",
   "execution_count": 19,
   "id": "465563e7",
   "metadata": {},
   "outputs": [],
   "source": [
    "df[\"delivery_time\"]=(df[\"end_time\"] - df[\"time_stamp\"]).dt.total_seconds() / 60"
   ]
  },
  {
   "cell_type": "code",
   "execution_count": 20,
   "id": "05cc8f96",
   "metadata": {},
   "outputs": [],
   "source": [
    "df2=pd.merge(orders,order_items,on=\"order_id\")"
   ]
  },
  {
   "cell_type": "code",
   "execution_count": 21,
   "id": "331bd160",
   "metadata": {},
   "outputs": [],
   "source": [
    "df=pd.merge(df,df2,on=\"order_id\")"
   ]
  },
  {
   "cell_type": "markdown",
   "id": "e5b7a9f3",
   "metadata": {},
   "source": [
    "What is the average Delivery Time (in minutes) taken by the store to deliver the Pizza?"
   ]
  },
  {
   "cell_type": "code",
   "execution_count": 20,
   "id": "1550165d",
   "metadata": {},
   "outputs": [
    {
     "data": {
      "text/plain": [
       "20.647560770746257"
      ]
     },
     "execution_count": 20,
     "metadata": {},
     "output_type": "execute_result"
    }
   ],
   "source": [
    "df[\"delivery_time\"].mean()"
   ]
  },
  {
   "cell_type": "markdown",
   "id": "eb0801c2",
   "metadata": {},
   "source": [
    "What is the 99th percentile Delivery Time (in minutes) taken by the store to deliver the Pizza?"
   ]
  },
  {
   "cell_type": "code",
   "execution_count": 21,
   "id": "bf91bfe3",
   "metadata": {},
   "outputs": [
    {
     "data": {
      "text/plain": [
       "27.160349671800002"
      ]
     },
     "execution_count": 21,
     "metadata": {},
     "output_type": "execute_result"
    }
   ],
   "source": [
    "df[\"delivery_time\"].quantile(0.99)"
   ]
  },
  {
   "cell_type": "markdown",
   "id": "c8f747e7",
   "metadata": {},
   "source": [
    "Which metric is the better choice to determine the stores performance based on Delivery Time?"
   ]
  },
  {
   "cell_type": "code",
   "execution_count": 22,
   "id": "5b7a661b",
   "metadata": {},
   "outputs": [
    {
     "data": {
      "text/plain": [
       "20.647560770746257"
      ]
     },
     "execution_count": 22,
     "metadata": {},
     "output_type": "execute_result"
    }
   ],
   "source": [
    "df[\"delivery_time\"].mean()"
   ]
  },
  {
   "cell_type": "markdown",
   "id": "aee25a9f",
   "metadata": {},
   "source": [
    "What is the order id with the maximum delivery time?"
   ]
  },
  {
   "cell_type": "code",
   "execution_count": 23,
   "id": "ff429a0b",
   "metadata": {},
   "outputs": [
    {
     "data": {
      "text/plain": [
       "160475    321390589\n",
       "Name: order_id, dtype: int64"
      ]
     },
     "execution_count": 23,
     "metadata": {},
     "output_type": "execute_result"
    }
   ],
   "source": [
    "df.loc[df[\"delivery_time\"]==max(df[\"delivery_time\"]),\"order_id\"]"
   ]
  },
  {
   "cell_type": "markdown",
   "id": "89307714",
   "metadata": {},
   "source": [
    "How many pizza's were ordered between 1st January and 31st January 2024 (INCLUSIVE)?"
   ]
  },
  {
   "cell_type": "code",
   "execution_count": 24,
   "id": "a3a0c32a",
   "metadata": {},
   "outputs": [
    {
     "data": {
      "text/plain": [
       "30336"
      ]
     },
     "execution_count": 24,
     "metadata": {},
     "output_type": "execute_result"
    }
   ],
   "source": [
    "len(df.loc[(df[\"order_placed_at\"] >= '2024-01-01') & (df[\"order_placed_at\"] <= '2024-01-31'),\"items_ordered\"].explode())"
   ]
  },
  {
   "cell_type": "markdown",
   "id": "e9007719",
   "metadata": {},
   "source": [
    "How many order took more than 30 minutes to deliver between 1st January and 31st January 2024 (INCLUSIVE)?\n",
    "*\n",
    "This is important as Diminos promise 30 minutes delivery. For any pizza delivered after 30 minutes, customer will get a full refund."
   ]
  },
  {
   "cell_type": "code",
   "execution_count": 25,
   "id": "36704b64",
   "metadata": {},
   "outputs": [
    {
     "data": {
      "text/plain": [
       "23"
      ]
     },
     "execution_count": 25,
     "metadata": {},
     "output_type": "execute_result"
    }
   ],
   "source": [
    "len(df.loc[(df[\"order_placed_at\"] >= '2024-01-01') & (df[\"order_placed_at\"] <= '2024-01-31') & (df[\"delivery_time\"] > 30)])"
   ]
  },
  {
   "cell_type": "markdown",
   "id": "6c3d8464",
   "metadata": {},
   "source": [
    "What is the total amount Pizza store lost in 2023 due to refunds on late deliveries?"
   ]
  },
  {
   "cell_type": "code",
   "execution_count": 34,
   "id": "64cac42b",
   "metadata": {},
   "outputs": [],
   "source": [
    "l=df.loc[(df[\"order_placed_at\"] >= '2023-01-01') & (df[\"order_placed_at\"] <= '2023-12-31') & (df[\"delivery_time\"] > 30),\"items_ordered\"].explode().value_counts()"
   ]
  },
  {
   "cell_type": "code",
   "execution_count": 47,
   "id": "6c05c26a",
   "metadata": {},
   "outputs": [],
   "source": [
    "df3=pd.DataFrame({\"Count\":l, \"item_id\":l.index})"
   ]
  },
  {
   "cell_type": "code",
   "execution_count": 50,
   "id": "b36090c8",
   "metadata": {},
   "outputs": [],
   "source": [
    "df3=pd.merge(df3,products,on=\"item_id\")"
   ]
  },
  {
   "cell_type": "code",
   "execution_count": 52,
   "id": "1975b4fc",
   "metadata": {},
   "outputs": [],
   "source": [
    "df3[\"Loss\"] = df3[\"Count\"] * df3[\"Price\"]"
   ]
  },
  {
   "cell_type": "code",
   "execution_count": 55,
   "id": "3b359b62",
   "metadata": {},
   "outputs": [
    {
     "data": {
      "text/plain": [
       "238488"
      ]
     },
     "execution_count": 55,
     "metadata": {},
     "output_type": "execute_result"
    }
   ],
   "source": [
    "df3[\"Loss\"].sum()"
   ]
  },
  {
   "cell_type": "markdown",
   "id": "5fe96ad0",
   "metadata": {},
   "source": [
    "In which year Pizza store has lost maximum amount due to refunds on late deliveries?"
   ]
  },
  {
   "cell_type": "code",
   "execution_count": 77,
   "id": "0c545078",
   "metadata": {},
   "outputs": [],
   "source": [
    "gb = df.loc[df[\"delivery_time\"] > 30,\"items_ordered\"].groupby(df[\"order_placed_at\"].dt.year)"
   ]
  },
  {
   "cell_type": "code",
   "execution_count": 86,
   "id": "4340d1a4",
   "metadata": {},
   "outputs": [
    {
     "data": {
      "text/plain": [
       "order_placed_at\n",
       "2020     46\n",
       "2021    666\n",
       "2022    673\n",
       "2023    673\n",
       "2024     62\n",
       "Name: items_ordered, dtype: int64"
      ]
     },
     "execution_count": 86,
     "metadata": {},
     "output_type": "execute_result"
    }
   ],
   "source": [
    "gb.sum().apply(lambda x:len(x))"
   ]
  },
  {
   "cell_type": "markdown",
   "id": "622d4646",
   "metadata": {},
   "source": [
    "How much revenue is generated by the pizza store till date? Don't include the refund amount in revenue."
   ]
  },
  {
   "cell_type": "code",
   "execution_count": 91,
   "id": "a244a8f9",
   "metadata": {},
   "outputs": [],
   "source": [
    "k=df.loc[df[\"delivery_time\"] < 30, \"items_ordered\"].explode().value_counts()"
   ]
  },
  {
   "cell_type": "code",
   "execution_count": 92,
   "id": "4a089293",
   "metadata": {},
   "outputs": [],
   "source": [
    "df4=pd.DataFrame({\"Count\":k, \"item_id\":k.index})"
   ]
  },
  {
   "cell_type": "code",
   "execution_count": 93,
   "id": "8e566f1b",
   "metadata": {},
   "outputs": [],
   "source": [
    "df4=pd.merge(df4,products,on=\"item_id\")"
   ]
  },
  {
   "cell_type": "code",
   "execution_count": 94,
   "id": "d1437ec8",
   "metadata": {},
   "outputs": [],
   "source": [
    "df4[\"Loss\"] = df4[\"Count\"] * df4[\"Price\"]"
   ]
  },
  {
   "cell_type": "code",
   "execution_count": 95,
   "id": "2ff2d0c0",
   "metadata": {},
   "outputs": [
    {
     "data": {
      "text/plain": [
       "407086211"
      ]
     },
     "execution_count": 95,
     "metadata": {},
     "output_type": "execute_result"
    }
   ],
   "source": [
    "df4[\"Loss\"].sum()"
   ]
  },
  {
   "cell_type": "markdown",
   "id": "99b8d3fb",
   "metadata": {},
   "source": [
    "Which distribution can be used to model the number of orders incoming each hour? If we can somehow model it, which problem for owner of Pizza Store can be solved?"
   ]
  },
  {
   "cell_type": "code",
   "execution_count": 106,
   "id": "e2aac4c2",
   "metadata": {},
   "outputs": [
    {
     "data": {
      "image/png": "[encoded data removed]",
      "text/plain": [
       "<Figure size 640x480 with 1 Axes>"
      ]
     },
     "metadata": {},
     "output_type": "display_data"
    }
   ],
   "source": [
    "sns.kdeplot(df[\"order_placed_at\"].dt.hour)\n",
    "plt.show()"
   ]
  },
  {
   "cell_type": "code",
   "execution_count": null,
   "id": "d1f2a7dc",
   "metadata": {},
   "outputs": [],
   "source": []
  },
  {
   "cell_type": "code",
   "execution_count": null,
   "id": "ffdc159d",
   "metadata": {},
   "outputs": [],
   "source": []
  }
 ],
 "metadata": {
  "kernelspec": {
   "display_name": "Python 3 (ipykernel)",
   "language": "python",
   "name": "python3"
  },
  "language_info": {
   "codemirror_mode": {
    "name": "ipython",
    "version": 3
   },
   "file_extension": ".py",
   "mimetype": "text/x-python",
   "name": "python",
   "nbconvert_exporter": "python",
   "pygments_lexer": "ipython3",
   "version": "3.10.9"
  }
 },
 "nbformat": 4,
 "nbformat_minor": 5
}
