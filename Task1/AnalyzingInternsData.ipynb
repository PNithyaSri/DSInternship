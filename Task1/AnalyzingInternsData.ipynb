{
  "nbformat": 4,
  "nbformat_minor": 0,
  "metadata": {
    "colab": {
      "provenance": []
    },
    "kernelspec": {
      "name": "python3",
      "display_name": "Python 3"
    },
    "language_info": {
      "name": "python"
    }
  },
  "cells": [
    {
      "cell_type": "code",
      "execution_count": 22,
      "metadata": {
        "id": "TGMfH7tPevRM"
      },
      "outputs": [],
      "source": [
        "import numpy as np\n",
        "import pandas as pd\n",
        "import matplotlib.pyplot as plt\n",
        "import seaborn as sns"
      ]
    },
    {
      "cell_type": "markdown",
      "source": [
        "Data Collection"
      ],
      "metadata": {
        "id": "P2NP-MF4f2Cq"
      }
    },
    {
      "cell_type": "code",
      "source": [
        "interns = pd.read_csv(r\"/content/raw_data_v11_3.csv\")"
      ],
      "metadata": {
        "id": "12uVwt--fDJ4"
      },
      "execution_count": 13,
      "outputs": []
    },
    {
      "cell_type": "markdown",
      "source": [
        "Data Exploration"
      ],
      "metadata": {
        "id": "dif-a1vVf5Nn"
      }
    },
    {
      "cell_type": "code",
      "source": [
        "data = interns.copy()"
      ],
      "metadata": {
        "id": "mbTXxC_KfIKr"
      },
      "execution_count": 14,
      "outputs": []
    },
    {
      "cell_type": "code",
      "source": [
        "data.info()"
      ],
      "metadata": {
        "colab": {
          "base_uri": "https://localhost:8080/"
        },
        "id": "O3Z8bdxDgD-F",
        "outputId": "cdbe27d5-ddc9-4d20-b5a5-0b26936210ad"
      },
      "execution_count": 16,
      "outputs": [
        {
          "output_type": "stream",
          "name": "stdout",
          "text": [
            "<class 'pandas.core.frame.DataFrame'>\n",
            "RangeIndex: 1000 entries, 0 to 999\n",
            "Data columns (total 8 columns):\n",
            " #   Column                                                                                                                               Non-Null Count  Dtype \n",
            "---  ------                                                                                                                               --------------  ----- \n",
            " 0   Date of Birth                                                                                                                        1000 non-null   object\n",
            " 1   What is your current profession?                                                                                                     1000 non-null   object\n",
            " 2   What is the year of completion of your Highest Education Qualification?                                                              1000 non-null   object\n",
            " 3   Which of the following best describes you?                                                                                           1000 non-null   object\n",
            " 4   Please mention the name of the institute where you have completed or are currently pursuing your Data Science Certification Course.  678 non-null    object\n",
            " 5   In case your certification institute is \"Innomatics Research Labs\", please provide your Enrolled Batch Number.                       338 non-null    object\n",
            " 6   Please indicate the time that suits you for your daily LIVE interaction with our Chief Data Scientist as part of your internship.    1000 non-null   object\n",
            " 7   What do you think are most important skill right now for a skilled Data Scientist?                                                   1000 non-null   object\n",
            "dtypes: object(8)\n",
            "memory usage: 62.6+ KB\n"
          ]
        }
      ]
    },
    {
      "cell_type": "code",
      "source": [
        "data.head()"
      ],
      "metadata": {
        "colab": {
          "base_uri": "https://localhost:8080/",
          "height": 831
        },
        "id": "RB6Fg13rgI35",
        "outputId": "55bf0abb-1aea-4548-fee1-380966cf2692"
      },
      "execution_count": 17,
      "outputs": [
        {
          "output_type": "execute_result",
          "data": {
            "text/plain": [
              "  Date of Birth                   What is your current profession?  \\\n",
              "0     9/16/2000  Fresher (I have completed my Education and loo...   \n",
              "1      2/6/1998  Fresher (I have completed my Education and loo...   \n",
              "2     10/8/2003  Student (I am currently enrolled in some Educa...   \n",
              "3    11/29/2001  Student (I am currently enrolled in some Educa...   \n",
              "4    11/25/2004  Student (I am currently enrolled in some Educa...   \n",
              "\n",
              "  What is the year of completion of your Highest Education Qualification?  \\\n",
              "0                                          7/30/2023                        \n",
              "1                                          5/18/2022                        \n",
              "2                                           4/1/2025                        \n",
              "3                                          5/15/2024                        \n",
              "4                                          1/10/2026                        \n",
              "\n",
              "          Which of the following best describes you?  \\\n",
              "0  I am currently enrolled in a Data Science cert...   \n",
              "1  I have never enrolled in any certification cou...   \n",
              "2  I am currently enrolled in a Data Science cert...   \n",
              "3  I have never enrolled in any certification cou...   \n",
              "4  I have completed a Data Science certification ...   \n",
              "\n",
              "  Please mention the name of the institute where you have completed or are currently pursuing your Data Science Certification Course.  \\\n",
              "0                           Innomatics Research Labs                                                                                    \n",
              "1                                                NaN                                                                                    \n",
              "2                                                NaN                                                                                    \n",
              "3                                                NaN                                                                                    \n",
              "4         Velagapudi ramakrishna Siddhartha college                                                                                     \n",
              "\n",
              "  In case your certification institute is \"Innomatics Research Labs\", please provide your Enrolled Batch Number.  \\\n",
              "0                                                251                                                               \n",
              "1                                                NaN                                                               \n",
              "2                                                NaN                                                               \n",
              "3                                                NaN                                                               \n",
              "4                                                 Na                                                               \n",
              "\n",
              "  Please indicate the time that suits you for your daily LIVE interaction with our Chief Data Scientist as part of your internship.  \\\n",
              "0                                6:00 to 7:00 PM IST                                                                                  \n",
              "1                                6:00 to 7:00 PM IST                                                                                  \n",
              "2                                6:00 to 7:00 PM IST                                                                                  \n",
              "3                                5:00 to 6:00 PM IST                                                                                  \n",
              "4                                6:00 to 7:00 PM IST                                                                                  \n",
              "\n",
              "  What do you think are most important skill right now for a skilled Data Scientist?  \n",
              "0  Extracting actionable insights from the raw da...                                  \n",
              "1   Extracting actionable insights from the raw data                                  \n",
              "2                                     Data Modelling                                  \n",
              "3  Extracting actionable insights from the raw da...                                  \n",
              "4  Extracting actionable insights from the raw da...                                  "
            ],
            "text/html": [
              "\n",
              "  <div id=\"df-b307a945-d383-43b8-972c-3e5ae1bad536\" class=\"colab-df-container\">\n",
              "    <div>\n",
              "<style scoped>\n",
              "    .dataframe tbody tr th:only-of-type {\n",
              "        vertical-align: middle;\n",
              "    }\n",
              "\n",
              "    .dataframe tbody tr th {\n",
              "        vertical-align: top;\n",
              "    }\n",
              "\n",
              "    .dataframe thead th {\n",
              "        text-align: right;\n",
              "    }\n",
              "</style>\n",
              "<table border=\"1\" class=\"dataframe\">\n",
              "  <thead>\n",
              "    <tr style=\"text-align: right;\">\n",
              "      <th></th>\n",
              "      <th>Date of Birth</th>\n",
              "      <th>What is your current profession?</th>\n",
              "      <th>What is the year of completion of your Highest Education Qualification?</th>\n",
              "      <th>Which of the following best describes you?</th>\n",
              "      <th>Please mention the name of the institute where you have completed or are currently pursuing your Data Science Certification Course.</th>\n",
              "      <th>In case your certification institute is \"Innomatics Research Labs\", please provide your Enrolled Batch Number.</th>\n",
              "      <th>Please indicate the time that suits you for your daily LIVE interaction with our Chief Data Scientist as part of your internship.</th>\n",
              "      <th>What do you think are most important skill right now for a skilled Data Scientist?</th>\n",
              "    </tr>\n",
              "  </thead>\n",
              "  <tbody>\n",
              "    <tr>\n",
              "      <th>0</th>\n",
              "      <td>9/16/2000</td>\n",
              "      <td>Fresher (I have completed my Education and loo...</td>\n",
              "      <td>7/30/2023</td>\n",
              "      <td>I am currently enrolled in a Data Science cert...</td>\n",
              "      <td>Innomatics Research Labs</td>\n",
              "      <td>251</td>\n",
              "      <td>6:00 to 7:00 PM IST</td>\n",
              "      <td>Extracting actionable insights from the raw da...</td>\n",
              "    </tr>\n",
              "    <tr>\n",
              "      <th>1</th>\n",
              "      <td>2/6/1998</td>\n",
              "      <td>Fresher (I have completed my Education and loo...</td>\n",
              "      <td>5/18/2022</td>\n",
              "      <td>I have never enrolled in any certification cou...</td>\n",
              "      <td>NaN</td>\n",
              "      <td>NaN</td>\n",
              "      <td>6:00 to 7:00 PM IST</td>\n",
              "      <td>Extracting actionable insights from the raw data</td>\n",
              "    </tr>\n",
              "    <tr>\n",
              "      <th>2</th>\n",
              "      <td>10/8/2003</td>\n",
              "      <td>Student (I am currently enrolled in some Educa...</td>\n",
              "      <td>4/1/2025</td>\n",
              "      <td>I am currently enrolled in a Data Science cert...</td>\n",
              "      <td>NaN</td>\n",
              "      <td>NaN</td>\n",
              "      <td>6:00 to 7:00 PM IST</td>\n",
              "      <td>Data Modelling</td>\n",
              "    </tr>\n",
              "    <tr>\n",
              "      <th>3</th>\n",
              "      <td>11/29/2001</td>\n",
              "      <td>Student (I am currently enrolled in some Educa...</td>\n",
              "      <td>5/15/2024</td>\n",
              "      <td>I have never enrolled in any certification cou...</td>\n",
              "      <td>NaN</td>\n",
              "      <td>NaN</td>\n",
              "      <td>5:00 to 6:00 PM IST</td>\n",
              "      <td>Extracting actionable insights from the raw da...</td>\n",
              "    </tr>\n",
              "    <tr>\n",
              "      <th>4</th>\n",
              "      <td>11/25/2004</td>\n",
              "      <td>Student (I am currently enrolled in some Educa...</td>\n",
              "      <td>1/10/2026</td>\n",
              "      <td>I have completed a Data Science certification ...</td>\n",
              "      <td>Velagapudi ramakrishna Siddhartha college</td>\n",
              "      <td>Na</td>\n",
              "      <td>6:00 to 7:00 PM IST</td>\n",
              "      <td>Extracting actionable insights from the raw da...</td>\n",
              "    </tr>\n",
              "  </tbody>\n",
              "</table>\n",
              "</div>\n",
              "    <div class=\"colab-df-buttons\">\n",
              "\n",
              "  <div class=\"colab-df-container\">\n",
              "    <button class=\"colab-df-convert\" onclick=\"convertToInteractive('df-b307a945-d383-43b8-972c-3e5ae1bad536')\"\n",
              "            title=\"Convert this dataframe to an interactive table.\"\n",
              "            style=\"display:none;\">\n",
              "\n",
              "  <svg xmlns=\"http://www.w3.org/2000/svg\" height=\"24px\" viewBox=\"0 -960 960 960\">\n",
              "    <path d=\"M120-120v-720h720v720H120Zm60-500h600v-160H180v160Zm220 220h160v-160H400v160Zm0 220h160v-160H400v160ZM180-400h160v-160H180v160Zm440 0h160v-160H620v160ZM180-180h160v-160H180v160Zm440 0h160v-160H620v160Z\"/>\n",
              "  </svg>\n",
              "    </button>\n",
              "\n",
              "  <style>\n",
              "    .colab-df-container {\n",
              "      display:flex;\n",
              "      gap: 12px;\n",
              "    }\n",
              "\n",
              "    .colab-df-convert {\n",
              "      background-color: #E8F0FE;\n",
              "      border: none;\n",
              "      border-radius: 50%;\n",
              "      cursor: pointer;\n",
              "      display: none;\n",
              "      fill: #1967D2;\n",
              "      height: 32px;\n",
              "      padding: 0 0 0 0;\n",
              "      width: 32px;\n",
              "    }\n",
              "\n",
              "    .colab-df-convert:hover {\n",
              "      background-color: #E2EBFA;\n",
              "      box-shadow: 0px 1px 2px rgba(60, 64, 67, 0.3), 0px 1px 3px 1px rgba(60, 64, 67, 0.15);\n",
              "      fill: #174EA6;\n",
              "    }\n",
              "\n",
              "    .colab-df-buttons div {\n",
              "      margin-bottom: 4px;\n",
              "    }\n",
              "\n",
              "    [theme=dark] .colab-df-convert {\n",
              "      background-color: #3B4455;\n",
              "      fill: #D2E3FC;\n",
              "    }\n",
              "\n",
              "    [theme=dark] .colab-df-convert:hover {\n",
              "      background-color: #434B5C;\n",
              "      box-shadow: 0px 1px 3px 1px rgba(0, 0, 0, 0.15);\n",
              "      filter: drop-shadow(0px 1px 2px rgba(0, 0, 0, 0.3));\n",
              "      fill: #FFFFFF;\n",
              "    }\n",
              "  </style>\n",
              "\n",
              "    <script>\n",
              "      const buttonEl =\n",
              "        document.querySelector('#df-b307a945-d383-43b8-972c-3e5ae1bad536 button.colab-df-convert');\n",
              "      buttonEl.style.display =\n",
              "        google.colab.kernel.accessAllowed ? 'block' : 'none';\n",
              "\n",
              "      async function convertToInteractive(key) {\n",
              "        const element = document.querySelector('#df-b307a945-d383-43b8-972c-3e5ae1bad536');\n",
              "        const dataTable =\n",
              "          await google.colab.kernel.invokeFunction('convertToInteractive',\n",
              "                                                    [key], {});\n",
              "        if (!dataTable) return;\n",
              "\n",
              "        const docLinkHtml = 'Like what you see? Visit the ' +\n",
              "          '<a target=\"_blank\" href=https://colab.research.google.com/notebooks/data_table.ipynb>data table notebook</a>'\n",
              "          + ' to learn more about interactive tables.';\n",
              "        element.innerHTML = '';\n",
              "        dataTable['output_type'] = 'display_data';\n",
              "        await google.colab.output.renderOutput(dataTable, element);\n",
              "        const docLink = document.createElement('div');\n",
              "        docLink.innerHTML = docLinkHtml;\n",
              "        element.appendChild(docLink);\n",
              "      }\n",
              "    </script>\n",
              "  </div>\n",
              "\n",
              "\n",
              "<div id=\"df-41ecc70a-ecb9-47b9-ba6f-2d3f312cc337\">\n",
              "  <button class=\"colab-df-quickchart\" onclick=\"quickchart('df-41ecc70a-ecb9-47b9-ba6f-2d3f312cc337')\"\n",
              "            title=\"Suggest charts\"\n",
              "            style=\"display:none;\">\n",
              "\n",
              "<svg xmlns=\"http://www.w3.org/2000/svg\" height=\"24px\"viewBox=\"0 0 24 24\"\n",
              "     width=\"24px\">\n",
              "    <g>\n",
              "        <path d=\"M19 3H5c-1.1 0-2 .9-2 2v14c0 1.1.9 2 2 2h14c1.1 0 2-.9 2-2V5c0-1.1-.9-2-2-2zM9 17H7v-7h2v7zm4 0h-2V7h2v10zm4 0h-2v-4h2v4z\"/>\n",
              "    </g>\n",
              "</svg>\n",
              "  </button>\n",
              "\n",
              "<style>\n",
              "  .colab-df-quickchart {\n",
              "      --bg-color: #E8F0FE;\n",
              "      --fill-color: #1967D2;\n",
              "      --hover-bg-color: #E2EBFA;\n",
              "      --hover-fill-color: #174EA6;\n",
              "      --disabled-fill-color: #AAA;\n",
              "      --disabled-bg-color: #DDD;\n",
              "  }\n",
              "\n",
              "  [theme=dark] .colab-df-quickchart {\n",
              "      --bg-color: #3B4455;\n",
              "      --fill-color: #D2E3FC;\n",
              "      --hover-bg-color: #434B5C;\n",
              "      --hover-fill-color: #FFFFFF;\n",
              "      --disabled-bg-color: #3B4455;\n",
              "      --disabled-fill-color: #666;\n",
              "  }\n",
              "\n",
              "  .colab-df-quickchart {\n",
              "    background-color: var(--bg-color);\n",
              "    border: none;\n",
              "    border-radius: 50%;\n",
              "    cursor: pointer;\n",
              "    display: none;\n",
              "    fill: var(--fill-color);\n",
              "    height: 32px;\n",
              "    padding: 0;\n",
              "    width: 32px;\n",
              "  }\n",
              "\n",
              "  .colab-df-quickchart:hover {\n",
              "    background-color: var(--hover-bg-color);\n",
              "    box-shadow: 0 1px 2px rgba(60, 64, 67, 0.3), 0 1px 3px 1px rgba(60, 64, 67, 0.15);\n",
              "    fill: var(--button-hover-fill-color);\n",
              "  }\n",
              "\n",
              "  .colab-df-quickchart-complete:disabled,\n",
              "  .colab-df-quickchart-complete:disabled:hover {\n",
              "    background-color: var(--disabled-bg-color);\n",
              "    fill: var(--disabled-fill-color);\n",
              "    box-shadow: none;\n",
              "  }\n",
              "\n",
              "  .colab-df-spinner {\n",
              "    border: 2px solid var(--fill-color);\n",
              "    border-color: transparent;\n",
              "    border-bottom-color: var(--fill-color);\n",
              "    animation:\n",
              "      spin 1s steps(1) infinite;\n",
              "  }\n",
              "\n",
              "  @keyframes spin {\n",
              "    0% {\n",
              "      border-color: transparent;\n",
              "      border-bottom-color: var(--fill-color);\n",
              "      border-left-color: var(--fill-color);\n",
              "    }\n",
              "    20% {\n",
              "      border-color: transparent;\n",
              "      border-left-color: var(--fill-color);\n",
              "      border-top-color: var(--fill-color);\n",
              "    }\n",
              "    30% {\n",
              "      border-color: transparent;\n",
              "      border-left-color: var(--fill-color);\n",
              "      border-top-color: var(--fill-color);\n",
              "      border-right-color: var(--fill-color);\n",
              "    }\n",
              "    40% {\n",
              "      border-color: transparent;\n",
              "      border-right-color: var(--fill-color);\n",
              "      border-top-color: var(--fill-color);\n",
              "    }\n",
              "    60% {\n",
              "      border-color: transparent;\n",
              "      border-right-color: var(--fill-color);\n",
              "    }\n",
              "    80% {\n",
              "      border-color: transparent;\n",
              "      border-right-color: var(--fill-color);\n",
              "      border-bottom-color: var(--fill-color);\n",
              "    }\n",
              "    90% {\n",
              "      border-color: transparent;\n",
              "      border-bottom-color: var(--fill-color);\n",
              "    }\n",
              "  }\n",
              "</style>\n",
              "\n",
              "  <script>\n",
              "    async function quickchart(key) {\n",
              "      const quickchartButtonEl =\n",
              "        document.querySelector('#' + key + ' button');\n",
              "      quickchartButtonEl.disabled = true;  // To prevent multiple clicks.\n",
              "      quickchartButtonEl.classList.add('colab-df-spinner');\n",
              "      try {\n",
              "        const charts = await google.colab.kernel.invokeFunction(\n",
              "            'suggestCharts', [key], {});\n",
              "      } catch (error) {\n",
              "        console.error('Error during call to suggestCharts:', error);\n",
              "      }\n",
              "      quickchartButtonEl.classList.remove('colab-df-spinner');\n",
              "      quickchartButtonEl.classList.add('colab-df-quickchart-complete');\n",
              "    }\n",
              "    (() => {\n",
              "      let quickchartButtonEl =\n",
              "        document.querySelector('#df-41ecc70a-ecb9-47b9-ba6f-2d3f312cc337 button');\n",
              "      quickchartButtonEl.style.display =\n",
              "        google.colab.kernel.accessAllowed ? 'block' : 'none';\n",
              "    })();\n",
              "  </script>\n",
              "</div>\n",
              "\n",
              "    </div>\n",
              "  </div>\n"
            ]
          },
          "metadata": {},
          "execution_count": 17
        }
      ]
    },
    {
      "cell_type": "markdown",
      "source": [
        "Data Cleaning"
      ],
      "metadata": {
        "id": "J9LGF_rpgOx_"
      }
    },
    {
      "cell_type": "code",
      "source": [
        "data.duplicated().sum()"
      ],
      "metadata": {
        "colab": {
          "base_uri": "https://localhost:8080/"
        },
        "id": "En3I4-QTfjIS",
        "outputId": "a00162dd-042e-4cdc-9fca-a9aa44d3381b"
      },
      "execution_count": 18,
      "outputs": [
        {
          "output_type": "execute_result",
          "data": {
            "text/plain": [
              "2"
            ]
          },
          "metadata": {},
          "execution_count": 18
        }
      ]
    },
    {
      "cell_type": "code",
      "source": [
        "data = data.drop_duplicates()"
      ],
      "metadata": {
        "id": "DLjfecEbfovg"
      },
      "execution_count": 19,
      "outputs": []
    },
    {
      "cell_type": "code",
      "source": [
        "data.duplicated().sum()"
      ],
      "metadata": {
        "colab": {
          "base_uri": "https://localhost:8080/"
        },
        "id": "9sPeU7Frfsi6",
        "outputId": "94bfa161-0951-4ef3-bcb4-0ab6dd911fa9"
      },
      "execution_count": 20,
      "outputs": [
        {
          "output_type": "execute_result",
          "data": {
            "text/plain": [
              "0"
            ]
          },
          "metadata": {},
          "execution_count": 20
        }
      ]
    },
    {
      "cell_type": "code",
      "source": [
        "data.isnull().sum()"
      ],
      "metadata": {
        "colab": {
          "base_uri": "https://localhost:8080/"
        },
        "id": "xl-DjGQsgVhX",
        "outputId": "75641d3d-8ad5-4513-eca2-d41635b9557f"
      },
      "execution_count": 21,
      "outputs": [
        {
          "output_type": "execute_result",
          "data": {
            "text/plain": [
              "Date of Birth                                                                                                                            0\n",
              "What is your current profession?                                                                                                         0\n",
              "What is the year of completion of your Highest Education Qualification?                                                                  0\n",
              "Which of the following best describes you?                                                                                               0\n",
              "Please mention the name of the institute where you have completed or are currently pursuing your Data Science Certification Course.    321\n",
              "In case your certification institute is \"Innomatics Research Labs\", please provide your Enrolled Batch Number.                         660\n",
              "Please indicate the time that suits you for your daily LIVE interaction with our Chief Data Scientist as part of your internship.        0\n",
              "What do you think are most important skill right now for a skilled Data Scientist?                                                       0\n",
              "dtype: int64"
            ]
          },
          "metadata": {},
          "execution_count": 21
        }
      ]
    },
    {
      "cell_type": "markdown",
      "source": [
        "What is the current profession of most interns?"
      ],
      "metadata": {
        "id": "RvdLUb7bg0eG"
      }
    },
    {
      "cell_type": "code",
      "source": [
        "sns.countplot(data[\"What is your current profession?\"])\n",
        "plt.show()"
      ],
      "metadata": {
        "colab": {
          "base_uri": "https://localhost:8080/",
          "height": 370
        },
        "id": "iltuQzPlgZct",
        "outputId": "2b9bb349-8cc9-4b42-d023-259d049b2d04"
      },
      "execution_count": 27,
      "outputs": [
        {
          "output_type": "display_data",
          "data": {
            "text/plain": [
              "<Figure size 640x480 with 1 Axes>"
            ],
            "image/png": "[encoded data removed]"
          },
          "metadata": {}
        }
      ]
    },
    {
      "cell_type": "markdown",
      "source": [
        "What are the preferred LIVE session timings?"
      ],
      "metadata": {
        "id": "UJ7vFV87hcXx"
      }
    },
    {
      "cell_type": "code",
      "source": [
        "sns.countplot(data[\"Please indicate the time that suits you for your daily LIVE interaction with our Chief Data Scientist as part of your internship.\"])\n",
        "plt.show()"
      ],
      "metadata": {
        "colab": {
          "base_uri": "https://localhost:8080/",
          "height": 449
        },
        "id": "eORJ0Bz-hF0k",
        "outputId": "b4bab22d-95b4-4b76-c4ba-133941da8185"
      },
      "execution_count": 28,
      "outputs": [
        {
          "output_type": "display_data",
          "data": {
            "text/plain": [
              "<Figure size 640x480 with 1 Axes>"
            ],
            "image/png": "[encoded data removed]"
          },
          "metadata": {}
        }
      ]
    },
    {
      "cell_type": "markdown",
      "source": [
        "How many interns are enrolled or have completed their data science professional courses?"
      ],
      "metadata": {
        "id": "CwdoiVXgiGIK"
      }
    },
    {
      "cell_type": "code",
      "source": [
        "data[\"Which of the following best describes you?\"].unique()"
      ],
      "metadata": {
        "colab": {
          "base_uri": "https://localhost:8080/"
        },
        "id": "ANNedbsLhriF",
        "outputId": "2c9426dc-1bb8-4f23-b047-6ecb3b515fd6"
      },
      "execution_count": 29,
      "outputs": [
        {
          "output_type": "execute_result",
          "data": {
            "text/plain": [
              "array(['I am currently enrolled in a Data Science certification course',\n",
              "       'I have never enrolled in any certification courses',\n",
              "       'I have completed a Data Science certification course'],\n",
              "      dtype=object)"
            ]
          },
          "metadata": {},
          "execution_count": 29
        }
      ]
    },
    {
      "cell_type": "code",
      "source": [
        "data.loc[(data[\"Which of the following best describes you?\"]=='I am currently enrolled in a Data Science certification course') | (data[\"Which of the following best describes you?\"]=='I have completed a Data Science certification course')].count()"
      ],
      "metadata": {
        "colab": {
          "base_uri": "https://localhost:8080/"
        },
        "id": "-DkVqDwUi95C",
        "outputId": "e09ef3b4-44bd-4318-90ff-633456785bb9"
      },
      "execution_count": 33,
      "outputs": [
        {
          "output_type": "execute_result",
          "data": {
            "text/plain": [
              "Date of Birth                                                                                                                          697\n",
              "What is your current profession?                                                                                                       697\n",
              "What is the year of completion of your Highest Education Qualification?                                                                697\n",
              "Which of the following best describes you?                                                                                             697\n",
              "Please mention the name of the institute where you have completed or are currently pursuing your Data Science Certification Course.    656\n",
              "In case your certification institute is \"Innomatics Research Labs\", please provide your Enrolled Batch Number.                         321\n",
              "Please indicate the time that suits you for your daily LIVE interaction with our Chief Data Scientist as part of your internship.      697\n",
              "What do you think are most important skill right now for a skilled Data Scientist?                                                     697\n",
              "dtype: int64"
            ]
          },
          "metadata": {},
          "execution_count": 33
        }
      ]
    },
    {
      "cell_type": "markdown",
      "source": [
        "For interns who never enrolled in a data science certification course, what is the current profession of the majority of them?"
      ],
      "metadata": {
        "id": "GltXuSZhj0CG"
      }
    },
    {
      "cell_type": "code",
      "source": [
        "sns.countplot(data.loc[data[\"Which of the following best describes you?\"]=='I have never enrolled in any certification courses',\"What is your current profession?\"])\n",
        "plt.show()"
      ],
      "metadata": {
        "colab": {
          "base_uri": "https://localhost:8080/",
          "height": 371
        },
        "id": "aYdakpV3lJuH",
        "outputId": "da86984b-2465-4fc4-a1f7-6c620343a65c"
      },
      "execution_count": 44,
      "outputs": [
        {
          "output_type": "display_data",
          "data": {
            "text/plain": [
              "<Figure size 640x480 with 1 Axes>"
            ],
            "image/png": "[encoded data removed]"
          },
          "metadata": {}
        }
      ]
    },
    {
      "cell_type": "markdown",
      "source": [
        "Which skill is the third most important for a data scientist?"
      ],
      "metadata": {
        "id": "7JuxzG4Omjwj"
      }
    },
    {
      "cell_type": "code",
      "source": [
        "flat_list = [item for sublist in data['What do you think are most important skill right now for a skilled Data Scientist?'] for item in sublist.split(\", \")]\n",
        "\n",
        "print(pd.Series(flat_list).value_counts())"
      ],
      "metadata": {
        "colab": {
          "base_uri": "https://localhost:8080/"
        },
        "id": "1pOlUCExmzwn",
        "outputId": "4b1b96e2-d543-423d-ff82-052d95e8d3de"
      },
      "execution_count": 74,
      "outputs": [
        {
          "output_type": "stream",
          "name": "stdout",
          "text": [
            "Extracting actionable insights from the raw data          868\n",
            "Data Modelling                                            825\n",
            "MLOps                                                     596\n",
            "LLMs                                                      533\n",
            "Basics of backend application development using python    520\n",
            "Prompt Engineering                                        424\n",
            "dtype: int64\n"
          ]
        }
      ]
    },
    {
      "cell_type": "markdown",
      "source": [
        "How many interns selected “Prompt Engineering” as the most important skill?"
      ],
      "metadata": {
        "id": "VBISNZr9tK-A"
      }
    },
    {
      "cell_type": "code",
      "source": [
        "flat_list = [item for sublist in data['What do you think are most important skill right now for a skilled Data Scientist?'] for item in sublist.split(\", \")]\n",
        "\n",
        "print(pd.Series(flat_list).value_counts())"
      ],
      "metadata": {
        "colab": {
          "base_uri": "https://localhost:8080/"
        },
        "id": "MOasPDQ1r3Bk",
        "outputId": "1975114d-8685-4dfc-dc4f-e0e597fdb4e7"
      },
      "execution_count": 75,
      "outputs": [
        {
          "output_type": "stream",
          "name": "stdout",
          "text": [
            "Extracting actionable insights from the raw data          868\n",
            "Data Modelling                                            825\n",
            "MLOps                                                     596\n",
            "LLMs                                                      533\n",
            "Basics of backend application development using python    520\n",
            "Prompt Engineering                                        424\n",
            "dtype: int64\n"
          ]
        }
      ]
    },
    {
      "cell_type": "markdown",
      "source": [
        "What is the minimum age of an intern at Innomatics Research Labs?"
      ],
      "metadata": {
        "id": "1Za5RvTjtkw4"
      }
    },
    {
      "cell_type": "code",
      "source": [
        "max(data[\"Date of Birth\"])"
      ],
      "metadata": {
        "colab": {
          "base_uri": "https://localhost:8080/",
          "height": 35
        },
        "id": "og9ZavsjtrEg",
        "outputId": "d92e3678-55b9-482f-d72e-3df72520dc48"
      },
      "execution_count": 84,
      "outputs": [
        {
          "output_type": "execute_result",
          "data": {
            "text/plain": [
              "'9/9/2001'"
            ],
            "application/vnd.google.colaboratory.intrinsic+json": {
              "type": "string"
            }
          },
          "metadata": {},
          "execution_count": 84
        }
      ]
    },
    {
      "cell_type": "code",
      "source": [
        "2024-2001"
      ],
      "metadata": {
        "colab": {
          "base_uri": "https://localhost:8080/"
        },
        "id": "af1q5Nibt7RH",
        "outputId": "6859f83f-c298-4f73-f771-27e7f357d4b7"
      },
      "execution_count": 85,
      "outputs": [
        {
          "output_type": "execute_result",
          "data": {
            "text/plain": [
              "23"
            ]
          },
          "metadata": {},
          "execution_count": 85
        }
      ]
    },
    {
      "cell_type": "markdown",
      "source": [
        "How many interns were born on a Sunday?"
      ],
      "metadata": {
        "id": "nnyxu1KsvfJn"
      }
    },
    {
      "cell_type": "code",
      "source": [
        "data[\"Date of Birth\"] = pd.to_datetime(data[\"Date of Birth\"])\n",
        "\n",
        "\n",
        "data['day_of_week_name'] = data[\"Date of Birth\"].dt.strftime('%A')\n",
        "\n",
        "data.loc[data['day_of_week_name']==\"Sunday\"].count()"
      ],
      "metadata": {
        "colab": {
          "base_uri": "https://localhost:8080/"
        },
        "id": "2KddEkQQvgLe",
        "outputId": "72934474-da36-4b73-ae8d-73ec30458dfa"
      },
      "execution_count": 86,
      "outputs": [
        {
          "output_type": "execute_result",
          "data": {
            "text/plain": [
              "Date of Birth                                                                                                                          125\n",
              "What is your current profession?                                                                                                       125\n",
              "What is the year of completion of your Highest Education Qualification?                                                                125\n",
              "Which of the following best describes you?                                                                                             125\n",
              "Please mention the name of the institute where you have completed or are currently pursuing your Data Science Certification Course.     91\n",
              "In case your certification institute is \"Innomatics Research Labs\", please provide your Enrolled Batch Number.                          44\n",
              "Please indicate the time that suits you for your daily LIVE interaction with our Chief Data Scientist as part of your internship.      125\n",
              "What do you think are most important skill right now for a skilled Data Scientist?                                                     125\n",
              "day_of_week_numeric                                                                                                                    125\n",
              "day_of_week_name                                                                                                                       125\n",
              "dtype: int64"
            ]
          },
          "metadata": {},
          "execution_count": 86
        }
      ]
    },
    {
      "cell_type": "markdown",
      "source": [
        "In which month do the majority of interns are born?"
      ],
      "metadata": {
        "id": "Ytcc7Sz0zhYz"
      }
    },
    {
      "cell_type": "code",
      "source": [
        "data['month'] = data[\"Date of Birth\"].dt.strftime('%B')"
      ],
      "metadata": {
        "id": "ZB7QKdi5ytor"
      },
      "execution_count": 95,
      "outputs": []
    },
    {
      "cell_type": "code",
      "source": [
        "br=sns.countplot(data[\"month\"])\n",
        "plt.bar_label(br.containers[0],fontsize=10)\n",
        "plt.show()"
      ],
      "metadata": {
        "colab": {
          "base_uri": "https://localhost:8080/",
          "height": 449
        },
        "id": "J6WalGzg1N4J",
        "outputId": "8c8a9ab9-0e82-477e-8920-fd88b5608fe9"
      },
      "execution_count": 105,
      "outputs": [
        {
          "output_type": "display_data",
          "data": {
            "text/plain": [
              "<Figure size 640x480 with 1 Axes>"
            ],
            "image/png": "[encoded data removed]"
          },
          "metadata": {}
        }
      ]
    },
    {
      "cell_type": "markdown",
      "source": [
        "What is the median age of a working professional?"
      ],
      "metadata": {
        "id": "LsMn-88t3rMN"
      }
    },
    {
      "cell_type": "code",
      "source": [
        "from datetime import datetime"
      ],
      "metadata": {
        "id": "3Z3vFSPN5Lck"
      },
      "execution_count": 109,
      "outputs": []
    },
    {
      "cell_type": "code",
      "source": [
        "(datetime.now().year-data.loc[data[\"What is your current profession?\"]=='Working Professional (I have completed my Education and working full time)',\"Date of Birth\"].dt.year).median()\n"
      ],
      "metadata": {
        "colab": {
          "base_uri": "https://localhost:8080/"
        },
        "id": "ahim37-71YBS",
        "outputId": "044f5af6-8681-4a3c-9fa6-42179c39ee70"
      },
      "execution_count": 113,
      "outputs": [
        {
          "output_type": "execute_result",
          "data": {
            "text/plain": [
              "27.0"
            ]
          },
          "metadata": {},
          "execution_count": 113
        }
      ]
    },
    {
      "cell_type": "markdown",
      "source": [
        "What is the maximum age of a freelancer?"
      ],
      "metadata": {
        "id": "6QZHB6de5rVc"
      }
    },
    {
      "cell_type": "code",
      "source": [
        "max(datetime.now().year-data.loc[data[\"What is your current profession?\"]=='Freelancer (I have completed my Education and working part time or owns a business)',\"Date of Birth\"].dt.year)\n"
      ],
      "metadata": {
        "colab": {
          "base_uri": "https://localhost:8080/"
        },
        "id": "VymOuZdi4BG4",
        "outputId": "44b8c56b-1609-44ae-bec9-4726c71b6646"
      },
      "execution_count": 116,
      "outputs": [
        {
          "output_type": "execute_result",
          "data": {
            "text/plain": [
              "44"
            ]
          },
          "metadata": {},
          "execution_count": 116
        }
      ]
    },
    {
      "cell_type": "markdown",
      "source": [
        "How many interns didn’t mention the name of the data science institute from where they completed or are currently pursuing the courses?"
      ],
      "metadata": {
        "id": "gBFCEvzy6KLt"
      }
    },
    {
      "cell_type": "code",
      "source": [
        "data.loc[(data[\"Which of the following best describes you?\"]=='I am currently enrolled in a Data Science certification course') | (data[\"Which of the following best describes you?\"]=='I have completed a Data Science certification course'), \"Please mention the name of the institute where you have completed or are currently pursuing your Data Science Certification Course.\"].isnull().sum()"
      ],
      "metadata": {
        "colab": {
          "base_uri": "https://localhost:8080/"
        },
        "id": "j_ce9R8c7I9j",
        "outputId": "aef86287-84da-4e17-8471-64129f543c14"
      },
      "execution_count": 124,
      "outputs": [
        {
          "output_type": "execute_result",
          "data": {
            "text/plain": [
              "41"
            ]
          },
          "metadata": {},
          "execution_count": 124
        }
      ]
    },
    {
      "cell_type": "markdown",
      "source": [
        "How many interns mentioned Innomatics as their data science institute?"
      ],
      "metadata": {
        "id": "jJV4px5X8rBF"
      }
    },
    {
      "cell_type": "code",
      "source": [
        "data.loc[data[\"Please mention the name of the institute where you have completed or are currently pursuing your Data Science Certification Course.\"]=='Innomatics Research Labs'].count()"
      ],
      "metadata": {
        "colab": {
          "base_uri": "https://localhost:8080/"
        },
        "id": "bMeQSD_66kDp",
        "outputId": "e54338f2-ce0d-4e07-ccf4-762ea2e9b571"
      },
      "execution_count": 127,
      "outputs": [
        {
          "output_type": "execute_result",
          "data": {
            "text/plain": [
              "Date of Birth                                                                                                                          109\n",
              "What is your current profession?                                                                                                       109\n",
              "What is the year of completion of your Highest Education Qualification?                                                                109\n",
              "Which of the following best describes you?                                                                                             109\n",
              "Please mention the name of the institute where you have completed or are currently pursuing your Data Science Certification Course.    109\n",
              "In case your certification institute is \"Innomatics Research Labs\", please provide your Enrolled Batch Number.                         108\n",
              "Please indicate the time that suits you for your daily LIVE interaction with our Chief Data Scientist as part of your internship.      109\n",
              "What do you think are most important skill right now for a skilled Data Scientist?                                                     109\n",
              "day_of_week_name                                                                                                                       109\n",
              "month                                                                                                                                  109\n",
              "dtype: int64"
            ]
          },
          "metadata": {},
          "execution_count": 127
        }
      ]
    },
    {
      "cell_type": "code",
      "source": [],
      "metadata": {
        "id": "o5ajKbwb82cg"
      },
      "execution_count": null,
      "outputs": []
    }
  ]
}